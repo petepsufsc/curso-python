{
  "nbformat": 4,
  "nbformat_minor": 0,
  "metadata": {
    "colab": {
      "name": "05. Strings",
      "version": "0.3.2",
      "provenance": []
    },
    "kernelspec": {
      "name": "python3",
      "display_name": "Python 3"
    }
  },
  "cells": [
    {
      "metadata": {
        "id": "lV0Zxsb7yjct",
        "colab_type": "text"
      },
      "cell_type": "markdown",
      "source": [
        "#STRINGS\n",
        "\n",
        "* Sequência de caracteres.\n",
        "* Representada entre aspas (simples ou duplas, você escolhe!)"
      ]
    },
    {
      "metadata": {
        "id": "qk1cWRWPyfam",
        "colab_type": "code",
        "colab": {}
      },
      "cell_type": "code",
      "source": [
        "#Crie uma string com aspas duplas e a imprima: \n"
      ],
      "execution_count": 0,
      "outputs": []
    },
    {
      "metadata": {
        "id": "Z8qEldnB0cqv",
        "colab_type": "code",
        "colab": {}
      },
      "cell_type": "code",
      "source": [
        "#Crie outra string com aspas simples e a imprima: \n"
      ],
      "execution_count": 0,
      "outputs": []
    },
    {
      "metadata": {
        "id": "Q0omR60Z1uRV",
        "colab_type": "code",
        "colab": {}
      },
      "cell_type": "code",
      "source": [
        "#Crie uma string com a frase: Um copo d'água\n"
      ],
      "execution_count": 0,
      "outputs": []
    },
    {
      "metadata": {
        "id": "ZRzTjvLK1Zsz",
        "colab_type": "text"
      },
      "cell_type": "markdown",
      "source": [
        "Além disso, você pode realizar operações com <font color = \"orange\"><b>`strings`</font></b>:"
      ]
    },
    {
      "metadata": {
        "id": "KW_rpb7I3Xgy",
        "colab_type": "code",
        "colab": {}
      },
      "cell_type": "code",
      "source": [
        "#Triplique o conteúdo de uma string:\n"
      ],
      "execution_count": 0,
      "outputs": []
    },
    {
      "metadata": {
        "id": "8Y6V_eRy4b6-",
        "colab_type": "code",
        "colab": {}
      },
      "cell_type": "code",
      "source": [
        "#Some o conteúdo de duas strings:\n"
      ],
      "execution_count": 0,
      "outputs": []
    },
    {
      "metadata": {
        "id": "EgoPL4OH7Jff",
        "colab_type": "code",
        "colab": {}
      },
      "cell_type": "code",
      "source": [
        "#Defina uma string com um texto que começa em uma linha e termina na debaixo:\n"
      ],
      "execution_count": 0,
      "outputs": []
    },
    {
      "metadata": {
        "id": "1-gWrKn_40_W",
        "colab_type": "text"
      },
      "cell_type": "markdown",
      "source": [
        "*  <font color = \"orange\">**`upper()`**</font>:"
      ]
    },
    {
      "metadata": {
        "id": "tmWRIrdz5DGJ",
        "colab_type": "code",
        "colab": {}
      },
      "cell_type": "code",
      "source": [
        "#Coloque todas as letras de uma string em maiúsculas:\n"
      ],
      "execution_count": 0,
      "outputs": []
    },
    {
      "metadata": {
        "id": "NBRwX3i5amUh",
        "colab_type": "text"
      },
      "cell_type": "markdown",
      "source": [
        "* <font color = \"orange\">**`lower()`**</font>:"
      ]
    },
    {
      "metadata": {
        "id": "3ZWouOXVa4xG",
        "colab_type": "code",
        "colab": {}
      },
      "cell_type": "code",
      "source": [
        "#Coloque todas as letras de uma string em minúsculas:\n"
      ],
      "execution_count": 0,
      "outputs": []
    },
    {
      "metadata": {
        "id": "4qFi_8GH64T5",
        "colab_type": "text"
      },
      "cell_type": "markdown",
      "source": [
        "* <font color = \"orange\">**`capitalize()`**</font>:"
      ]
    },
    {
      "metadata": {
        "id": "f2cczx1NTUDP",
        "colab_type": "code",
        "colab": {}
      },
      "cell_type": "code",
      "source": [
        "#Coloque uma string com a primeira letra maiúscula e o resto em letras minúsculas:\n"
      ],
      "execution_count": 0,
      "outputs": []
    },
    {
      "metadata": {
        "id": "nl33NULu5Inr",
        "colab_type": "text"
      },
      "cell_type": "markdown",
      "source": [
        "* <font color = \"orange\"><b>`len()`</font></b> :"
      ]
    },
    {
      "metadata": {
        "id": "vf343uue5H47",
        "colab_type": "code",
        "colab": {}
      },
      "cell_type": "code",
      "source": [
        "#Descubra quantos caracteres tem uma string:\n"
      ],
      "execution_count": 0,
      "outputs": []
    },
    {
      "metadata": {
        "id": "1Jx8hxlVVfDx",
        "colab_type": "code",
        "colab": {}
      },
      "cell_type": "code",
      "source": [
        "#Encontre a primeira letra de uma string:\n",
        "\n"
      ],
      "execution_count": 0,
      "outputs": []
    },
    {
      "metadata": {
        "id": "dUWVSxy0V4G_",
        "colab_type": "code",
        "colab": {}
      },
      "cell_type": "code",
      "source": [
        "#Encontre a quarta letra de uma string:\n"
      ],
      "execution_count": 0,
      "outputs": []
    },
    {
      "metadata": {
        "id": "RKS-3RNWV9qf",
        "colab_type": "code",
        "colab": {}
      },
      "cell_type": "code",
      "source": [
        "#Encontre a última letra de uma string:\n"
      ],
      "execution_count": 0,
      "outputs": []
    },
    {
      "metadata": {
        "id": "XHZERPNiWNJs",
        "colab_type": "code",
        "colab": {}
      },
      "cell_type": "code",
      "source": [
        "#Encontre os 5 primeiros caracteres de uma string:\n"
      ],
      "execution_count": 0,
      "outputs": []
    },
    {
      "metadata": {
        "id": "7_5NAMLMWwPG",
        "colab_type": "code",
        "colab": {}
      },
      "cell_type": "code",
      "source": [
        "#Encontre do segundo até o quarto caractere de uma string:\n"
      ],
      "execution_count": 0,
      "outputs": []
    },
    {
      "metadata": {
        "id": "U1egf0VYXVtC",
        "colab_type": "text"
      },
      "cell_type": "markdown",
      "source": [
        "##IMUTABILIDADE\n",
        "* Os objetos do tipo <font color = \"orange\"><b>`string`</font></b> são imutáveis, ou seja, não podemos alterá-los! \n",
        "* Tem **endereço único na memória**. <font color = \"orange\"><b>`id()`</font></b>"
      ]
    },
    {
      "metadata": {
        "id": "sCvVdYhbY_yA",
        "colab_type": "code",
        "colab": {}
      },
      "cell_type": "code",
      "source": [
        "uma_string = 'oi, tudo bem?'"
      ],
      "execution_count": 0,
      "outputs": []
    },
    {
      "metadata": {
        "id": "Xx5aeroKZeku",
        "colab_type": "code",
        "colab": {}
      },
      "cell_type": "code",
      "source": [
        "#Encontre o endereço da string \"uma_string\":\n"
      ],
      "execution_count": 0,
      "outputs": []
    },
    {
      "metadata": {
        "id": "l47kLrGcZbfw",
        "colab_type": "code",
        "colab": {}
      },
      "cell_type": "code",
      "source": [
        "#Utilize a função upper() na \"uma_string\" e descubra seu id:\n"
      ],
      "execution_count": 0,
      "outputs": []
    },
    {
      "metadata": {
        "colab_type": "code",
        "id": "JcADe2kKm49C",
        "colab": {}
      },
      "cell_type": "code",
      "source": [
        "#Verifique se elas são iguais (==):\n"
      ],
      "execution_count": 0,
      "outputs": []
    },
    {
      "metadata": {
        "id": "PS5usyHDck_X",
        "colab_type": "code",
        "colab": {}
      },
      "cell_type": "code",
      "source": [
        "#Tente mudar o primeiro caractere da \"uma_string\" para \"O\":\n"
      ],
      "execution_count": 0,
      "outputs": []
    },
    {
      "metadata": {
        "id": "7g0pBam4c-Q9",
        "colab_type": "text"
      },
      "cell_type": "markdown",
      "source": [
        "##FUNÇÃO `replace()`"
      ]
    },
    {
      "metadata": {
        "id": "Tk8BAT56Sehl",
        "colab_type": "code",
        "outputId": "2d49834b-97dd-4d80-be22-f1265086846e",
        "colab": {
          "base_uri": "https://localhost:8080/",
          "height": 35
        }
      },
      "cell_type": "code",
      "source": [
        "uma_string"
      ],
      "execution_count": 0,
      "outputs": [
        {
          "output_type": "execute_result",
          "data": {
            "text/plain": [
              "'oi, tudo bem?'"
            ]
          },
          "metadata": {
            "tags": []
          },
          "execution_count": 37
        }
      ]
    },
    {
      "metadata": {
        "id": "9KIkltRCc7tm",
        "colab_type": "code",
        "colab": {}
      },
      "cell_type": "code",
      "source": [
        "#Substitua o 'oi' da \"uma_string\" por 'olá':\n"
      ],
      "execution_count": 0,
      "outputs": []
    },
    {
      "metadata": {
        "id": "K_edRB_fdwug",
        "colab_type": "text"
      },
      "cell_type": "markdown",
      "source": [
        "**IMPORTANTE!** \n",
        "\n",
        "A função <font color = \"orange\"><b>`replace()`</font></b> devolve uma **nova string**, já que são imutáveis. Se você buscar os lugares de cada uma na memória, serão diferentes de novo! (:"
      ]
    },
    {
      "metadata": {
        "id": "jDRKFUY2SyCn",
        "colab_type": "text"
      },
      "cell_type": "markdown",
      "source": [
        "##EXERCÍCIOS\n",
        "\n",
        "1. Dado uma `string`, escreva um programa que conte quantas vogais e quantos espaços em branco existem nela."
      ]
    },
    {
      "metadata": {
        "id": "d3ZyVEXQTJ45",
        "colab_type": "code",
        "colab": {}
      },
      "cell_type": "code",
      "source": [
        ""
      ],
      "execution_count": 0,
      "outputs": []
    },
    {
      "metadata": {
        "id": "DIHgBuMWW5Fa",
        "colab_type": "text"
      },
      "cell_type": "markdown",
      "source": [
        "2. Escreva um código que verifique se uma `string` é um palíndromo, ou seja, uma palavra que se escreve do mesmo jeito de trás para frente. Exemplo de palíndromo: 'radar'. "
      ]
    },
    {
      "metadata": {
        "id": "BczAvT8iYEIQ",
        "colab_type": "code",
        "colab": {}
      },
      "cell_type": "code",
      "source": [
        ""
      ],
      "execution_count": 0,
      "outputs": []
    }
  ]
}