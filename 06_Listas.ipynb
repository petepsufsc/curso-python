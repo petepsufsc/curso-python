{
  "nbformat": 4,
  "nbformat_minor": 0,
  "metadata": {
    "colab": {
      "name": "06. Listas",
      "version": "0.3.2",
      "provenance": [],
      "collapsed_sections": [
        "gSWgeN9BiBMt",
        "xxiKkxzWjWkO",
        "zyimCJ4ckdRU",
        "CsHnkxaclesu",
        "ulvO-HBNZ261"
      ]
    },
    "kernelspec": {
      "name": "python3",
      "display_name": "Python 3"
    }
  },
  "cells": [
    {
      "metadata": {
        "id": "YRmrhR_zWuXE",
        "colab_type": "text"
      },
      "cell_type": "markdown",
      "source": [
        "#LISTAS\n",
        "\n",
        "* Armazenar informações mais complexas, inclusive objetos de diferentes tipos.\n",
        "* Representamos uma lista com uma sequência (cuja ordem importa) de objetos separados por vírgulas e dentro de um colchetes [   ]."
      ]
    },
    {
      "metadata": {
        "id": "eNooOERaWb_d",
        "colab_type": "code",
        "colab": {}
      },
      "cell_type": "code",
      "source": [
        "#Crie uma lista com os números de 1 a 4:\n"
      ],
      "execution_count": 0,
      "outputs": []
    },
    {
      "metadata": {
        "id": "OJLUIhQrZXAZ",
        "colab_type": "code",
        "colab": {}
      },
      "cell_type": "code",
      "source": [
        "#Crie a lista \"lista_doida\" com diferentes tipos de elementos:\n"
      ],
      "execution_count": 0,
      "outputs": []
    },
    {
      "metadata": {
        "id": "qAwKCT2pah4B",
        "colab_type": "code",
        "colab": {}
      },
      "cell_type": "code",
      "source": [
        "#Crie uma lista vazia:\n"
      ],
      "execution_count": 0,
      "outputs": []
    },
    {
      "metadata": {
        "id": "I2nPpqHsbgnB",
        "colab_type": "text"
      },
      "cell_type": "markdown",
      "source": [
        "##ACESSANDO UMA `list`\n",
        "\n",
        "* Cada elemento da lista possui um **índice** (sua posição), e SEMPRE começa no **zero**!\n"
      ]
    },
    {
      "metadata": {
        "id": "d-Owy9aTcliw",
        "colab_type": "code",
        "colab": {}
      },
      "cell_type": "code",
      "source": [
        "#Encontre o primeiro elemento de \"uma_lista\":\n"
      ],
      "execution_count": 0,
      "outputs": []
    },
    {
      "metadata": {
        "id": "tqpOnw79coNZ",
        "colab_type": "code",
        "colab": {}
      },
      "cell_type": "code",
      "source": [
        "#Encontre o teceiro elemento de \"uma_lista\":\n"
      ],
      "execution_count": 0,
      "outputs": []
    },
    {
      "metadata": {
        "id": "W2gNnlr4dM7Q",
        "colab_type": "code",
        "colab": {}
      },
      "cell_type": "code",
      "source": [
        "#Encontre os elementos da segunda e terceira posição de \"uma_lista\":\n"
      ],
      "execution_count": 0,
      "outputs": []
    },
    {
      "metadata": {
        "id": "eDbPiZ89eEBk",
        "colab_type": "text"
      },
      "cell_type": "markdown",
      "source": [
        "*  <font color = \"orange\"><b>`len( )`</font></b>."
      ]
    },
    {
      "metadata": {
        "id": "v74TAtBQdTU5",
        "colab_type": "code",
        "colab": {}
      },
      "cell_type": "code",
      "source": [
        "#Descubra o comprimento de \"uma_lista\":\n"
      ],
      "execution_count": 0,
      "outputs": []
    },
    {
      "metadata": {
        "id": "mi-FkNWYX9tu",
        "colab_type": "text"
      },
      "cell_type": "markdown",
      "source": [
        "E podemos incrementá-la de maneira bem simples:"
      ]
    },
    {
      "metadata": {
        "id": "YZjU4DrcYDjo",
        "colab_type": "code",
        "colab": {}
      },
      "cell_type": "code",
      "source": [
        "#Adicione a \"uma_lista\" os elementos 5, 6 e 7:\n"
      ],
      "execution_count": 0,
      "outputs": []
    },
    {
      "metadata": {
        "id": "-lX9OQmLYTIF",
        "colab_type": "code",
        "colab": {}
      },
      "cell_type": "code",
      "source": [
        "#Adicione mais um elemento a \"uma_lista\":\n"
      ],
      "execution_count": 0,
      "outputs": []
    },
    {
      "metadata": {
        "id": "TlflKZZfGRUw",
        "colab_type": "code",
        "colab": {}
      },
      "cell_type": "code",
      "source": [
        "#Verifique quais elementos estão na \"uma_lista\":\n"
      ],
      "execution_count": 0,
      "outputs": []
    },
    {
      "metadata": {
        "id": "JqgEvJK86zwQ",
        "colab_type": "code",
        "colab": {}
      },
      "cell_type": "code",
      "source": [
        "#Altere a \"uma_lista\" adicionando o elemento 8:\n"
      ],
      "execution_count": 0,
      "outputs": []
    },
    {
      "metadata": {
        "id": "Vu-bzThJfLk2",
        "colab_type": "text"
      },
      "cell_type": "markdown",
      "source": [
        "##FUNÇÕES RESERVADAS PARA LISTAS\n"
      ]
    },
    {
      "metadata": {
        "id": "9YcC84npfLEs",
        "colab_type": "text"
      },
      "cell_type": "markdown",
      "source": [
        "### `Append( )`\n",
        "\n",
        "Usada para adicionar um novo elemento no final de uma lista."
      ]
    },
    {
      "metadata": {
        "id": "ynkSVreHfu3q",
        "colab_type": "code",
        "colab": {}
      },
      "cell_type": "code",
      "source": [
        "animais = ['cachorro', 'gato', 'passarinho']"
      ],
      "execution_count": 0,
      "outputs": []
    },
    {
      "metadata": {
        "id": "KgzsmZ3if-TA",
        "colab_type": "code",
        "colab": {}
      },
      "cell_type": "code",
      "source": [
        "#Adicione 'peixe' ao final da lista \"animais\"\n"
      ],
      "execution_count": 0,
      "outputs": []
    },
    {
      "metadata": {
        "id": "9dYZjiU7g--j",
        "colab_type": "text"
      },
      "cell_type": "markdown",
      "source": [
        "Podemos adicionar muitos elementos com maior agilidade utilizando uma estrutura de repetição, como o <font color = \"orange\"><b>`for( )`</font></b>:"
      ]
    },
    {
      "metadata": {
        "id": "9jfURhjgSxaZ",
        "colab_type": "code",
        "colab": {}
      },
      "cell_type": "code",
      "source": [
        "#Crie uma lista vazia \"números\", depois, utilize a estrutura for() para adicionar uma sequência de números de 0 à 14:\n"
      ],
      "execution_count": 0,
      "outputs": []
    },
    {
      "metadata": {
        "id": "gSWgeN9BiBMt",
        "colab_type": "text"
      },
      "cell_type": "markdown",
      "source": [
        "### `Insert( )`\n",
        "\n",
        "Pode-se adicionar um novo elemento com uma **posição específica**. "
      ]
    },
    {
      "metadata": {
        "id": "LQ0pdjQcivwu",
        "colab_type": "code",
        "colab": {}
      },
      "cell_type": "code",
      "source": [
        "#Adicione a lista \"números\" o número -1 na primeira posição:\n"
      ],
      "execution_count": 0,
      "outputs": []
    },
    {
      "metadata": {
        "id": "xxiKkxzWjWkO",
        "colab_type": "text"
      },
      "cell_type": "markdown",
      "source": [
        "### `Pop( )`\n",
        "\n",
        "Serve para retirar elementos da lista. "
      ]
    },
    {
      "metadata": {
        "id": "IrLRXM-QkJKJ",
        "colab_type": "code",
        "outputId": "bdc33c6a-280f-43aa-92c2-44cf009005cd",
        "colab": {
          "base_uri": "https://localhost:8080/",
          "height": 35
        }
      },
      "cell_type": "code",
      "source": [
        "animais"
      ],
      "execution_count": 0,
      "outputs": [
        {
          "output_type": "execute_result",
          "data": {
            "text/plain": [
              "['cachorro', 'gato', 'passarinho']"
            ]
          },
          "metadata": {
            "tags": []
          },
          "execution_count": 8
        }
      ]
    },
    {
      "metadata": {
        "id": "R21DKz0IkLGx",
        "colab_type": "code",
        "colab": {}
      },
      "cell_type": "code",
      "source": [
        "#Retire o último elemento da lista \"animais\":\n"
      ],
      "execution_count": 0,
      "outputs": []
    },
    {
      "metadata": {
        "id": "W4yBOklfkNuB",
        "colab_type": "code",
        "colab": {}
      },
      "cell_type": "code",
      "source": [
        "#Retire o elemento 'gato' da lista \"animais\":\n"
      ],
      "execution_count": 0,
      "outputs": []
    },
    {
      "metadata": {
        "id": "zyimCJ4ckdRU",
        "colab_type": "text"
      },
      "cell_type": "markdown",
      "source": [
        "### `Remove( )`\n",
        "\n",
        "Quando não é conhecido o índice do elemento, pode-se retirá-lo a partir do seu valor."
      ]
    },
    {
      "metadata": {
        "id": "C9iYUSvTlC3o",
        "colab_type": "code",
        "outputId": "9187a9d9-060e-46ff-a767-8f86cd269cd0",
        "colab": {
          "base_uri": "https://localhost:8080/",
          "height": 35
        }
      },
      "cell_type": "code",
      "source": [
        "animais"
      ],
      "execution_count": 0,
      "outputs": [
        {
          "output_type": "execute_result",
          "data": {
            "text/plain": [
              "['cachorro']"
            ]
          },
          "metadata": {
            "tags": []
          },
          "execution_count": 12
        }
      ]
    },
    {
      "metadata": {
        "id": "R20fgEgHlJHL",
        "colab_type": "code",
        "colab": {}
      },
      "cell_type": "code",
      "source": [
        "#Retire o elemento 'cachorro' da lista \"animais\" usando o valor do elemento ao invés de sua posição:\n"
      ],
      "execution_count": 0,
      "outputs": []
    },
    {
      "metadata": {
        "id": "CsHnkxaclesu",
        "colab_type": "text"
      },
      "cell_type": "markdown",
      "source": [
        "### `Reverse( )`\n",
        "É usada para deixar a função \"ao contrário\". O último item vai virar o primeiro, e o primeiro vai virar o último.\n"
      ]
    },
    {
      "metadata": {
        "id": "9pkTJCUzZNQp",
        "colab_type": "code",
        "outputId": "906b1e6c-64c6-47bf-b08f-751ded0dd5d3",
        "colab": {
          "base_uri": "https://localhost:8080/",
          "height": 35
        }
      },
      "cell_type": "code",
      "source": [
        "uma_lista"
      ],
      "execution_count": 0,
      "outputs": [
        {
          "output_type": "execute_result",
          "data": {
            "text/plain": [
              "[1, 2, 3, 4]"
            ]
          },
          "metadata": {
            "tags": []
          },
          "execution_count": 14
        }
      ]
    },
    {
      "metadata": {
        "id": "lKKfP8fHZPoK",
        "colab_type": "code",
        "colab": {}
      },
      "cell_type": "code",
      "source": [
        "#Coloque a lista \"uma_lista\" em ordem descrescente:\n"
      ],
      "execution_count": 0,
      "outputs": []
    },
    {
      "metadata": {
        "id": "ulvO-HBNZ261",
        "colab_type": "text"
      },
      "cell_type": "markdown",
      "source": [
        "###`Count( )`\n",
        "Essa função conta a quantidade de vezes que um elemento aparece na lista em questão."
      ]
    },
    {
      "metadata": {
        "id": "RdWnllvcaEDY",
        "colab_type": "code",
        "colab": {}
      },
      "cell_type": "code",
      "source": [
        "outra_lista = [1, 1, 2, 2, 2, 3, 3, 3, 3]"
      ],
      "execution_count": 0,
      "outputs": []
    },
    {
      "metadata": {
        "id": "GIOs6WKFai7f",
        "colab_type": "code",
        "colab": {}
      },
      "cell_type": "code",
      "source": [
        "#Conte quantas vezes o elemento 3 aparece na \"outra_lista\":\n"
      ],
      "execution_count": 0,
      "outputs": []
    },
    {
      "metadata": {
        "id": "uvtPsNH_a4Qh",
        "colab_type": "text"
      },
      "cell_type": "markdown",
      "source": [
        "##LISTAS E STRINGS"
      ]
    },
    {
      "metadata": {
        "id": "im5JtDMTbMLf",
        "colab_type": "text"
      },
      "cell_type": "markdown",
      "source": [
        "Apesar de <font color = \"orange\"><b>`strings`</b></font> serem imutáveis, podemos criar listas a partir de <font color = \"orange\"><b>`strings`</b></font> e vice versa. "
      ]
    },
    {
      "metadata": {
        "id": "wzhzU190bwxa",
        "colab_type": "code",
        "colab": {}
      },
      "cell_type": "code",
      "source": [
        "curso = 'Engenharia de Produção'"
      ],
      "execution_count": 0,
      "outputs": []
    },
    {
      "metadata": {
        "id": "nYEEw6CzcBlU",
        "colab_type": "code",
        "colab": {}
      },
      "cell_type": "code",
      "source": [
        "#Transforme a string \"curso\" em uma lista:\n"
      ],
      "execution_count": 0,
      "outputs": []
    },
    {
      "metadata": {
        "id": "JHT69cC5c-7O",
        "colab_type": "code",
        "colab": {}
      },
      "cell_type": "code",
      "source": [
        "técnicos = 'mecânica;civil;elétrica'"
      ],
      "execution_count": 0,
      "outputs": []
    },
    {
      "metadata": {
        "id": "cN2oMZqJJitp",
        "colab_type": "code",
        "colab": {}
      },
      "cell_type": "code",
      "source": [
        "#Transforme \"técnicos\" em uma lista:\n"
      ],
      "execution_count": 0,
      "outputs": []
    },
    {
      "metadata": {
        "id": "uL87GA_LjYUD",
        "colab_type": "text"
      },
      "cell_type": "markdown",
      "source": [
        "Podemos fazer o contrário também, ou seja, juntar uma lista em <font color = \"orange\"><b>`string`</b></font>. Vamos usar a função<font color = \"orange\"><b> `join()`</b></font>."
      ]
    },
    {
      "metadata": {
        "id": "XF7b-iUWcMzz",
        "colab_type": "code",
        "colab": {}
      },
      "cell_type": "code",
      "source": [
        "habilitações = ['mecânica', 'civil', 'elétrica']"
      ],
      "execution_count": 0,
      "outputs": []
    },
    {
      "metadata": {
        "id": "QNYZHJTkckcQ",
        "colab_type": "code",
        "colab": {}
      },
      "cell_type": "code",
      "source": [
        "#Una os elementos da lista \"habilitações\" em uma string:\n"
      ],
      "execution_count": 0,
      "outputs": []
    },
    {
      "metadata": {
        "id": "bf7SXmyWcwG0",
        "colab_type": "code",
        "colab": {}
      },
      "cell_type": "code",
      "source": [
        "#Una os elementos da lista \"habilitações\" em uma string com o conectivo 'e':\n"
      ],
      "execution_count": 0,
      "outputs": []
    },
    {
      "metadata": {
        "id": "k0Uigz8zc1wl",
        "colab_type": "code",
        "colab": {}
      },
      "cell_type": "code",
      "source": [
        "#Imprima os elementos da lista \"habilitações\" em linhas diferentes (um embaixo do outro):\n"
      ],
      "execution_count": 0,
      "outputs": []
    },
    {
      "metadata": {
        "id": "Nz_qYxI0dbKT",
        "colab_type": "text"
      },
      "cell_type": "markdown",
      "source": [
        "##MUTABILIDADE\n",
        "* A lista é um tipo de **objeto mutável**.\n"
      ]
    },
    {
      "metadata": {
        "id": "avY_CALbXL_h",
        "colab_type": "code",
        "colab": {}
      },
      "cell_type": "code",
      "source": [
        "mensagem = ['Bom'] \n",
        "                       "
      ],
      "execution_count": 0,
      "outputs": []
    },
    {
      "metadata": {
        "id": "BbqgxJhkLYkF",
        "colab_type": "code",
        "colab": {}
      },
      "cell_type": "code",
      "source": [
        "#Adicione o elemento 'dia' a lista \"mensagem\":\n"
      ],
      "execution_count": 0,
      "outputs": []
    },
    {
      "metadata": {
        "id": "BYVpdv5MLjkm",
        "colab_type": "code",
        "colab": {}
      },
      "cell_type": "code",
      "source": [
        "#Verifique a lista \"mensagem\":\n"
      ],
      "execution_count": 0,
      "outputs": []
    },
    {
      "metadata": {
        "id": "V3U3u68vGR3T",
        "colab_type": "text"
      },
      "cell_type": "markdown",
      "source": [
        "\n",
        "##EXERCÍCIOS\n",
        "1. Escreva um programa que intercale os elementos de duas listas.\n",
        "\n"
      ]
    },
    {
      "metadata": {
        "id": "1xFlhTislOaU",
        "colab_type": "code",
        "colab": {}
      },
      "cell_type": "code",
      "source": [
        ""
      ],
      "execution_count": 0,
      "outputs": []
    },
    {
      "metadata": {
        "id": "AF5eDFlul4Sj",
        "colab_type": "text"
      },
      "cell_type": "markdown",
      "source": [
        "2. Duas amigas estabeleceram o código abaixo para que suas mensagens não fossem lidas pelas\n",
        "demais pessoas.\n",
        "\n",
        "> (0 1 2 3 4 5 6 7 8 9 10 11 12 13 14 15 16 17 18 19 20 21 22 23 24 25 26)\n",
        "\n",
        "> (' ' a b c d e f g h i j k l m n o p q r s t u v w x y z)\n",
        "\n",
        "Observe que cada letra equivale a um número entre 1 e 26 e o espaço ao 0.\n",
        "Faça a função 'traduzir', que recebe uma lista com uma mensagem (m_secreta) e \"traduz\" a sequência armazenada em m_secreta de acordo com o código das amigas.\n",
        "Teste para m_secreta = [2,15,13,0,4,9,1];\n",
        "DICA: crie uma string com as letras na ordem do código"
      ]
    },
    {
      "metadata": {
        "id": "I4WDUcUmm8iG",
        "colab_type": "code",
        "colab": {}
      },
      "cell_type": "code",
      "source": [
        ""
      ],
      "execution_count": 0,
      "outputs": []
    }
  ]
}