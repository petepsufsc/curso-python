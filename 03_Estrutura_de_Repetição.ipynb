{
  "nbformat": 4,
  "nbformat_minor": 0,
  "metadata": {
    "colab": {
      "name": "03. Estrutura de Repetição",
      "version": "0.3.2",
      "provenance": []
    },
    "kernelspec": {
      "name": "python3",
      "display_name": "Python 3"
    }
  },
  "cells": [
    {
      "metadata": {
        "id": "NL0Uj4cNnHFO",
        "colab_type": "text"
      },
      "cell_type": "markdown",
      "source": [
        "# ESTRUTURA DE REPETIÇÃO - LOOPS\n",
        "\n",
        "\n",
        "*   <font color='orange'> **`while`** </font> \n",
        "*  <font color='orange'> **`for`** </font>\n",
        "\n",
        "São úteis quando queremos que uma instrução seja **executada repetidas vezes até que** determinada instrução seja atendida.\n",
        "\n",
        "Por exemplo, quando sabemos o número de vezes que uma instrução deve ser repetida, podemos usar apenas o \"Ctrl+c/Ctrl+v\", não é mesmo? Mas, e quando precisamos repeti-la 100 vezes, ou até 1000?\n",
        "\n",
        "\n"
      ]
    },
    {
      "metadata": {
        "id": "wU5XTpT_P7iQ",
        "colab_type": "text"
      },
      "cell_type": "markdown",
      "source": [
        "\n",
        "**Exemplo**: você deseja um programa que lhe dê o quadrado dos números de 1 a 5."
      ]
    },
    {
      "metadata": {
        "id": "LDSgVsJMsO-C",
        "colab_type": "code",
        "outputId": "f1ed71ce-4585-4c04-94bb-ab5acd381b4c",
        "colab": {
          "base_uri": "https://localhost:8080/",
          "height": 199
        }
      },
      "cell_type": "code",
      "source": [
        "n = 1\n",
        "quadrado = n ** 2\n",
        "print('O quadrado de {} é {}'.format(n, quadrado))\n",
        "\n",
        "n = n + 1\n",
        "quadrado = n ** 2\n",
        "print('O quadrado de {} é {}'.format(n, quadrado))\n",
        "\n",
        "n = n + 1\n",
        "quadrado = n ** 2\n",
        "print('O quadrado de {} é {}'.format(n, quadrado))\n",
        "\n",
        "n = n + 1\n",
        "quadrado = n ** 2\n",
        "print('O quadrado de {} é {}'.format(n, quadrado))\n",
        "\n",
        "n = n + 1\n",
        "quadrado = n ** 2\n",
        "print('O quadrado de {} é {}'.format(n, quadrado))\n",
        "\n",
        "n = n + 1\n",
        "quadrado = n ** 2\n",
        "print('O quadrado de {} é {}'.format(n, quadrado))\n",
        "\n",
        "n = n + 1\n",
        "quadrado = n ** 2\n",
        "print('O quadrado de {} é {}'.format(n, quadrado))\n",
        "\n",
        "n = n + 1\n",
        "quadrado = n ** 2\n",
        "print('O quadrado de {} é {}'.format(n, quadrado))\n",
        "\n",
        "n = n + 1\n",
        "quadrado = n ** 2\n",
        "print('O quadrado de {} é {}'.format(n, quadrado))\n",
        "\n",
        "n = n + 1\n",
        "quadrado = n ** 2\n",
        "print('O quadrado de {} é {}'.format(n, quadrado))\n"
      ],
      "execution_count": 0,
      "outputs": [
        {
          "output_type": "stream",
          "text": [
            "O quadrado de 1 é 1\n",
            "O quadrado de 2 é 4\n",
            "O quadrado de 3 é 9\n",
            "O quadrado de 4 é 16\n",
            "O quadrado de 5 é 25\n",
            "O quadrado de 6 é 36\n",
            "O quadrado de 7 é 49\n",
            "O quadrado de 8 é 64\n",
            "O quadrado de 9 é 81\n",
            "O quadrado de 10 é 100\n"
          ],
          "name": "stdout"
        }
      ]
    },
    {
      "metadata": {
        "id": "diiLhLRnX-63",
        "colab_type": "code",
        "colab": {}
      },
      "cell_type": "code",
      "source": [
        "#Agora, tente chegar no mesmo resultado utilizando a estrutura de repetição while\n"
      ],
      "execution_count": 0,
      "outputs": []
    },
    {
      "metadata": {
        "id": "l1zdvifioA1q",
        "colab_type": "text"
      },
      "cell_type": "markdown",
      "source": [
        "A ideia é que você pode economizar bastante tempo e várias linhas de comando usando as estruturas de repetição!"
      ]
    },
    {
      "metadata": {
        "id": "ZyfwPzP_tMdh",
        "colab_type": "text"
      },
      "cell_type": "markdown",
      "source": [
        "## ```while```\n",
        "\n",
        "\n",
        "\n",
        "*  Instrução é executada **enquanto** uma condição é atendida.\n",
        "*  Utiliza valores booleanos para garantir que a condição ainda está sendo atendida."
      ]
    },
    {
      "metadata": {
        "id": "Wj2N862nsSSO",
        "colab_type": "code",
        "colab": {}
      },
      "cell_type": "code",
      "source": [
        "#Utilizando a estrutura while, escreva todos os valores de 1 até 4\n"
      ],
      "execution_count": 0,
      "outputs": []
    },
    {
      "metadata": {
        "id": "CzW5rBxYs_BI",
        "colab_type": "code",
        "colab": {}
      },
      "cell_type": "code",
      "source": [
        "#Utilizando a estrutura while, escreva todos os valores da progressão geométrica\n",
        "#com o elemento inicial sendo 1, a razão 2 e o elemento final menor que 1000.\n",
        "\n",
        "    "
      ],
      "execution_count": 0,
      "outputs": []
    },
    {
      "metadata": {
        "id": "N76ThtJc0gST",
        "colab_type": "text"
      },
      "cell_type": "markdown",
      "source": [
        "###**`break`**\n",
        "O comando `break` interrompe o `while` loop a qualquer momento."
      ]
    },
    {
      "metadata": {
        "id": "NMzOKaBLu6dF",
        "colab_type": "code",
        "colab": {}
      },
      "cell_type": "code",
      "source": [
        "#Chegue ao mesmo resultado do exercício anterior utilizando o comando break\n",
        "\n"
      ],
      "execution_count": 0,
      "outputs": []
    },
    {
      "metadata": {
        "id": "kaGVt_0J2Am9",
        "colab_type": "text"
      },
      "cell_type": "markdown",
      "source": [
        "## ```for``` LOOPS\n",
        "\n",
        "*  Comando que percorre strings, listas, e outros objetos com sequências, com alguma instrução.\n",
        "* Chamamos essas repetições das instruções, **iterações**."
      ]
    },
    {
      "metadata": {
        "id": "sm3kz_Ga65AO",
        "colab_type": "code",
        "colab": {}
      },
      "cell_type": "code",
      "source": [
        "# Faça uma variável qualquer i percorrer todas as letras da palavra \"Hello\"\n",
        "# e devolver cada uma delas\n",
        "\n",
        "\n",
        "      "
      ],
      "execution_count": 0,
      "outputs": []
    },
    {
      "metadata": {
        "id": "LBMlvPgfReXf",
        "colab_type": "code",
        "colab": {}
      },
      "cell_type": "code",
      "source": [
        "#Faça o mesmo para uma lista [1, 2, 3, 4, 5]\n",
        "             \n",
        "                        "
      ],
      "execution_count": 0,
      "outputs": []
    },
    {
      "metadata": {
        "id": "dmZzUHoZXXMs",
        "colab_type": "text"
      },
      "cell_type": "markdown",
      "source": [
        "## ```range()``` \n",
        "\n",
        "Estruturas possíveis:\n",
        "range(n) --> representa um conjunto valores começando em 0 e indo de 1 em 1 até n-1\n",
        "\n",
        "range(x, n, y) --> representa um conjunto de valores começando em x e indo de y em y até n-1\n"
      ]
    },
    {
      "metadata": {
        "id": "PrW0peD-bvgh",
        "colab_type": "code",
        "colab": {}
      },
      "cell_type": "code",
      "source": [
        "#Crie uma lista começando em 0 e terminando em 9\n",
        "#Com o for, faça uma variável qualquer passar por cada um dos elementos da lista \n"
      ],
      "execution_count": 0,
      "outputs": []
    },
    {
      "metadata": {
        "id": "oRGcag2zfhNv",
        "colab_type": "code",
        "colab": {}
      },
      "cell_type": "code",
      "source": [
        "#Obtenha o mesmo resultado acima utilizando range\n"
      ],
      "execution_count": 0,
      "outputs": []
    },
    {
      "metadata": {
        "id": "QHFXE9EL8YOO",
        "colab_type": "code",
        "colab": {}
      },
      "cell_type": "code",
      "source": [
        "#Com for, range e if chegue a um resultado de todos os valores pares de 0 a 10\n",
        "#Dica: use o comando \"continue\"\n",
        "\n"
      ],
      "execution_count": 0,
      "outputs": []
    },
    {
      "metadata": {
        "id": "hdEt-ishiZGB",
        "colab_type": "text"
      },
      "cell_type": "markdown",
      "source": [
        "##LOOPS ANINHADOS\n",
        "\n",
        "* Loop dentro de loop"
      ]
    },
    {
      "metadata": {
        "id": "FIhZtzvY9-qt",
        "colab_type": "code",
        "outputId": "43a964cc-1cd5-44ab-fee7-fde51fd5dbbc",
        "colab": {
          "base_uri": "https://localhost:8080/",
          "height": 72
        }
      },
      "cell_type": "code",
      "source": [
        "for x in range(4):\n",
        "    for y in range(3):\n",
        "        if x < y:\n",
        "            print(x, y)"
      ],
      "execution_count": 0,
      "outputs": [
        {
          "output_type": "stream",
          "text": [
            "0 1\n",
            "0 2\n",
            "1 2\n"
          ],
          "name": "stdout"
        }
      ]
    },
    {
      "metadata": {
        "id": "z7u8uxVHd0Fm",
        "colab_type": "code",
        "outputId": "54b3a3b4-f060-4359-9826-14b4db831cf7",
        "colab": {
          "base_uri": "https://localhost:8080/",
          "height": 199
        }
      },
      "cell_type": "code",
      "source": [
        "for x in range(5):\n",
        "  for y in range(x):\n",
        "    print(y)"
      ],
      "execution_count": 0,
      "outputs": [
        {
          "output_type": "stream",
          "text": [
            "0\n",
            "0\n",
            "1\n",
            "0\n",
            "1\n",
            "2\n",
            "0\n",
            "1\n",
            "2\n",
            "3\n"
          ],
          "name": "stdout"
        }
      ]
    },
    {
      "metadata": {
        "id": "mUtBqCnPeb-l",
        "colab_type": "code",
        "outputId": "afd61e07-9ba2-44e2-a53f-235e9d80dc16",
        "colab": {
          "base_uri": "https://localhost:8080/",
          "height": 199
        }
      },
      "cell_type": "code",
      "source": [
        "for x in range(5):\n",
        "  for y in range(x):\n",
        "    print(y, end =' ') #O que fazemos com este comando end= ' ' é que após escrever o valor de y o código não vai \"pular para a próxima linha\", e vai continuar escrevendo as próximas saídas na mesma linha\n",
        "  print('\\n')          #Este comando \\n pula para a próxima linha de código"
      ],
      "execution_count": 0,
      "outputs": [
        {
          "output_type": "stream",
          "text": [
            "\n",
            "\n",
            "0 \n",
            "\n",
            "0 1 \n",
            "\n",
            "0 1 2 \n",
            "\n",
            "0 1 2 3 \n",
            "\n"
          ],
          "name": "stdout"
        }
      ]
    },
    {
      "metadata": {
        "id": "Fl9sz7EhAJYb",
        "colab_type": "text"
      },
      "cell_type": "markdown",
      "source": [
        "##EXERCÍCIOS\n",
        "\n",
        "1. Sendo: soma= 1 + 1/2 + 1/3 + 1/4 + ... + 1/N. Faça um programa que calcule o valor da soma, com N=100 termos."
      ]
    },
    {
      "metadata": {
        "id": "8xUE1r6VPVG3",
        "colab_type": "code",
        "colab": {}
      },
      "cell_type": "code",
      "source": [
        ""
      ],
      "execution_count": 0,
      "outputs": []
    },
    {
      "metadata": {
        "id": "O7fWDrhDpo4B",
        "colab_type": "text"
      },
      "cell_type": "markdown",
      "source": [
        "2. Escreva um programa que encontre todos os números que são, ao mesmo tempo, ímpares e divisíveis por 5 entre o intervalo (100, 500). "
      ]
    },
    {
      "metadata": {
        "id": "T79l-iqzr8Jl",
        "colab_type": "code",
        "colab": {}
      },
      "cell_type": "code",
      "source": [
        ""
      ],
      "execution_count": 0,
      "outputs": []
    },
    {
      "metadata": {
        "id": "wHMOAvswsWhG",
        "colab_type": "text"
      },
      "cell_type": "markdown",
      "source": [
        "3. Dada a `uma_string`='invertida', elabore um programa que a imprima de trás para frente, ou seja, da última letra para a primeira."
      ]
    },
    {
      "metadata": {
        "id": "pGJe3Uihs9Q0",
        "colab_type": "code",
        "colab": {}
      },
      "cell_type": "code",
      "source": [
        ""
      ],
      "execution_count": 0,
      "outputs": []
    }
  ]
}