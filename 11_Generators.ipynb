{
  "nbformat": 4,
  "nbformat_minor": 0,
  "metadata": {
    "colab": {
      "name": "11. Generators",
      "version": "0.3.2",
      "provenance": []
    },
    "kernelspec": {
      "name": "python3",
      "display_name": "Python 3"
    }
  },
  "cells": [
    {
      "metadata": {
        "id": "sG8ADC8kyUct",
        "colab_type": "text"
      },
      "cell_type": "markdown",
      "source": [
        "#GENERATORS\n",
        "\n",
        "* Eles são uma forma simples de criar **iteradores** no Python"
      ]
    },
    {
      "metadata": {
        "id": "2cyPPd8_0OGm",
        "colab_type": "text"
      },
      "cell_type": "markdown",
      "source": [
        "###ITERADORES\n",
        "\n",
        "* É qualquer tipo de objeto que que pode ser usado com um *loop* <font color=orange> **`for`** </font>, ou seja, que é iterável "
      ]
    },
    {
      "metadata": {
        "id": "ayVvm6L8Fb_e",
        "colab_type": "code",
        "colab": {}
      },
      "cell_type": "code",
      "source": [
        "lista = [5, 4, 3, 2, 1]"
      ],
      "execution_count": 0,
      "outputs": []
    },
    {
      "metadata": {
        "id": "myBsz7Z522_m",
        "colab_type": "code",
        "colab": {}
      },
      "cell_type": "code",
      "source": [
        "#Itere sobre a 'lista' imprimindo seus elementos: \n"
      ],
      "execution_count": 0,
      "outputs": []
    },
    {
      "metadata": {
        "id": "9r-dFdSL8HSH",
        "colab_type": "text"
      },
      "cell_type": "markdown",
      "source": [
        "###Voltando aos `generators`\n",
        "\n",
        "* O <font color=orange> **`generator`** </font> é considerado uma função que permite você implementar uma **função que se comporta como um iterador**\n",
        "\n"
      ]
    },
    {
      "metadata": {
        "id": "vndM2DvCA1LX",
        "colab_type": "text"
      },
      "cell_type": "markdown",
      "source": [
        "____\n",
        "### SINTAXE\n",
        "​\n",
        "A sintaxe de um generator é bem parecida com a da função, composta por **nome**, **parâmetros**, **corpo** e uma palavra reservada <font color=orange> **`yield`** </font>:\n",
        "​\n",
        "​\n",
        ">`def  `  *  ` nome`*  `(paramêtros)`:\n",
        "​\n",
        ">>` [corpo - comandos a serem executados]`\n",
        "\n",
        ">>`yield`\n",
        "\n",
        "____\n"
      ]
    },
    {
      "metadata": {
        "id": "2kZSg2Y7TiTE",
        "colab_type": "code",
        "colab": {}
      },
      "cell_type": "code",
      "source": [
        "#uma função normal (return)\n",
        "\n",
        "def sequência(n):             #função que cria uma lista de números de 1 até n.\n",
        "    lista = []\n",
        "    for i in range(1, n + 1):\n",
        "        lista.append(i)\n",
        "    return lista\n",
        "  \n",
        "sequência (10)"
      ],
      "execution_count": 0,
      "outputs": []
    },
    {
      "metadata": {
        "id": "o7QfzWiwG8ZC",
        "colab_type": "text"
      },
      "cell_type": "markdown",
      "source": [
        "Aqui colocamos o <font color=orange> **`return`** </font>  fora do <font color=orange> **`loop for`**  </font> isso implica que quando o <font color=orange> **`loop`**  </font> terminar o <font color=orange> **`return`**  </font> termina a função e retorna o resultado do fim da iteração do <font color=orange> **`for`**  </font>."
      ]
    },
    {
      "metadata": {
        "id": "_uDV2hZ3V2pM",
        "colab_type": "code",
        "colab": {}
      },
      "cell_type": "code",
      "source": [
        "def sequência(n):    #Parecida com a função anterior, porém mudamos o lugar do return (para exemplificar)\n",
        "    lista = []\n",
        "    for i in range(1, n + 1):\n",
        "        return i\n",
        "      \n",
        "sequência(10)"
      ],
      "execution_count": 0,
      "outputs": []
    },
    {
      "metadata": {
        "id": "p-lqPwDsV-pz",
        "colab_type": "code",
        "colab": {}
      },
      "cell_type": "code",
      "source": [
        "#Crie um generator (yield) equivalente a função anterior:\n"
      ],
      "execution_count": 0,
      "outputs": []
    },
    {
      "metadata": {
        "id": "ibedMk-oKl1c",
        "colab_type": "code",
        "colab": {}
      },
      "cell_type": "code",
      "source": [
        "#Chame o generator, inicializando-o:\n"
      ],
      "execution_count": 0,
      "outputs": []
    },
    {
      "metadata": {
        "id": "bg6Gt_tHNPcW",
        "colab_type": "text"
      },
      "cell_type": "markdown",
      "source": [
        "### Diferenças entre a função `generator` e uma função normal\n",
        "\n",
        "Um resuminho de como uma função de <font color=orange> **`generator`**  </font> difere de uma função normal.\n",
        "\n",
        " * A função <font color=orange> **`generator`**  </font> contém uma ou mais declarações  <font color=orange> **`yield`**  </font>.\n",
        " * Quando chamado, ele retorna um objeto iterador, mas não inicia a execução imediatamente.\n",
        " * Depois que a função retorna, a função é pausada e o controle é transferido para quem a chamou.\n",
        " * As variáveis locais e seus estados são lembrados entre as chamadas sucessivas.\n",
        " * Finalmente, quando a função termina, <font color=orange> **`StopIteration`**  </font> é gerado automaticamente em outras chamadas."
      ]
    },
    {
      "metadata": {
        "id": "fQqir1B5WlZ9",
        "colab_type": "code",
        "colab": {}
      },
      "cell_type": "code",
      "source": [
        "# Uma função generator simples\n",
        "\n",
        "def meu_generator():\n",
        "    n = 1\n",
        "    print('Isso será impresso primeiro')\n",
        "    yield n\n",
        "\n",
        "    n += 1\n",
        "    print('Isso será impresso em segundo')\n",
        "    yield n\n",
        "\n",
        "    n += 1\n",
        "    print('Isso será impresso por último')\n",
        "    yield n"
      ],
      "execution_count": 0,
      "outputs": []
    },
    {
      "metadata": {
        "id": "dt5Bd3yoGuxp",
        "colab_type": "code",
        "colab": {}
      },
      "cell_type": "code",
      "source": [
        "gerador = meu_generator()"
      ],
      "execution_count": 0,
      "outputs": []
    },
    {
      "metadata": {
        "id": "gojySUshOcOY",
        "colab_type": "text"
      },
      "cell_type": "markdown",
      "source": [
        "###`next()`\n",
        "\n",
        "Existe uma função especial para generators, o  <font color=orange> **`next()`**  </font>, ele possibilita a iteração sobre os itens do  <font color=orange> **`generator`**  </font>."
      ]
    },
    {
      "metadata": {
        "id": "e3-sVm_OObmv",
        "colab_type": "code",
        "colab": {}
      },
      "cell_type": "code",
      "source": [
        "#Execute apenas o primeiro \"yield\" do 'meu_generator':\n"
      ],
      "execution_count": 0,
      "outputs": []
    },
    {
      "metadata": {
        "id": "zmt3ynkKOQst",
        "colab_type": "code",
        "colab": {}
      },
      "cell_type": "code",
      "source": [
        "#Execute o segundo \"yield\":\n"
      ],
      "execution_count": 0,
      "outputs": []
    },
    {
      "metadata": {
        "id": "w8dIcJEBPUbm",
        "colab_type": "code",
        "colab": {}
      },
      "cell_type": "code",
      "source": [
        "#Execute o terceiro \"yield\":\n"
      ],
      "execution_count": 0,
      "outputs": []
    },
    {
      "metadata": {
        "id": "xwrR_UFJQeF1",
        "colab_type": "code",
        "colab": {}
      },
      "cell_type": "code",
      "source": [
        "#Tente executar mais uma vez o gerador:\n"
      ],
      "execution_count": 0,
      "outputs": []
    },
    {
      "metadata": {
        "id": "ckX8VKtgP_Yu",
        "colab_type": "code",
        "colab": {}
      },
      "cell_type": "code",
      "source": [
        "#Reinicie o processo do \"meu_gerador\":\n"
      ],
      "execution_count": 0,
      "outputs": []
    },
    {
      "metadata": {
        "id": "wCegOqIQRUpj",
        "colab_type": "code",
        "colab": {}
      },
      "cell_type": "code",
      "source": [
        "#Itere sobre o generator com o loop for:\n"
      ],
      "execution_count": 0,
      "outputs": []
    },
    {
      "metadata": {
        "id": "sJUF7bDCt847",
        "colab_type": "code",
        "colab": {}
      },
      "cell_type": "code",
      "source": [
        "#Reinicie mais uma vez o generator:\n"
      ],
      "execution_count": 0,
      "outputs": []
    },
    {
      "metadata": {
        "id": "N52gOwFQu6xq",
        "colab_type": "code",
        "colab": {}
      },
      "cell_type": "code",
      "source": [
        "#Crie uma lista a partir do generator:\n"
      ],
      "execution_count": 0,
      "outputs": []
    },
    {
      "metadata": {
        "id": "oZRS7NhVxItK",
        "colab_type": "text"
      },
      "cell_type": "markdown",
      "source": [
        "###`generator` Python com um *loop*\n"
      ]
    },
    {
      "metadata": {
        "id": "j7w_VBaBvTrf",
        "colab_type": "code",
        "colab": {}
      },
      "cell_type": "code",
      "source": [
        "#Crie um generator que inverte uma string:\n"
      ],
      "execution_count": 0,
      "outputs": []
    },
    {
      "metadata": {
        "id": "9rbITMm4y3b6",
        "colab_type": "text"
      },
      "cell_type": "markdown",
      "source": [
        "Lembrando que podemos usar os <font color=orange> **`generator`**  </font> não apenas com <font color=orange> **`string`**  </font>, mas com outros tipos de objetos iteráveis (<font color=orange> **`list`**  </font>, <font color=orange> **`tuple`**  </font>)."
      ]
    },
    {
      "metadata": {
        "id": "zRy4dcoTaVtq",
        "colab_type": "text"
      },
      "cell_type": "markdown",
      "source": [
        "### `generator` e list compreehension\n",
        "\n",
        "A principal diferença entre uma <font color=orange> **`list`**  </font> e um <font color=orange> **`generator`**  </font> é que, enquanto <font color=orange> **`list`**  </font>  produz a lista inteira, o<font color=orange> **`generator`**  </font> produz um item por vez.\n",
        "\n"
      ]
    },
    {
      "metadata": {
        "id": "LVDB0uHkZ2xk",
        "colab_type": "code",
        "colab": {}
      },
      "cell_type": "code",
      "source": [
        "# Crie uma lista de números de 0 a 10: (usando loop for)\n"
      ],
      "execution_count": 0,
      "outputs": []
    },
    {
      "metadata": {
        "id": "RFglgLGh6SWq",
        "colab_type": "code",
        "colab": {}
      },
      "cell_type": "code",
      "source": [
        "# Crie um generator de números de 0 a 10: (usando loop for)\n"
      ],
      "execution_count": 0,
      "outputs": []
    },
    {
      "metadata": {
        "id": "HAdXyG6t6y3F",
        "colab_type": "code",
        "colab": {}
      },
      "cell_type": "code",
      "source": [
        "#Itere sobre o generator com um loop for:\n"
      ],
      "execution_count": 0,
      "outputs": []
    },
    {
      "metadata": {
        "id": "Aqy5JB4-7JMW",
        "colab_type": "text"
      },
      "cell_type": "markdown",
      "source": [
        "### Representação de um Fluxo Infinito\n",
        "\n"
      ]
    },
    {
      "metadata": {
        "id": "lGBVG2vj65Wf",
        "colab_type": "code",
        "colab": {}
      },
      "cell_type": "code",
      "source": [
        "#Crie um generator de números pares:\n",
        "\n"
      ],
      "execution_count": 0,
      "outputs": []
    },
    {
      "metadata": {
        "id": "BbBylHI59VnC",
        "colab_type": "text"
      },
      "cell_type": "markdown",
      "source": [
        "Percebeu, assim, podemos escrever uma função que gera dados infinitos sem termos problemas de memória!"
      ]
    },
    {
      "metadata": {
        "id": "q26_lT4AGNjI",
        "colab_type": "text"
      },
      "cell_type": "markdown",
      "source": [
        "##EXERCÍCIOS\n",
        "\n",
        "1. Escreva um programa usando um `generator` para retornar os números entre 0 e n que são, ambos, divisíveis por 5 e 7. Exemplo: se n=100, o programa deve retornar os números 0, 35, 70."
      ]
    },
    {
      "metadata": {
        "id": "bQBHPdcXHL1X",
        "colab_type": "code",
        "colab": {}
      },
      "cell_type": "code",
      "source": [
        ""
      ],
      "execution_count": 0,
      "outputs": []
    }
  ]
}