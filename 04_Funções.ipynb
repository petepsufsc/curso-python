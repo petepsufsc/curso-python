{
  "nbformat": 4,
  "nbformat_minor": 0,
  "metadata": {
    "colab": {
      "name": "04. Funções",
      "version": "0.3.2",
      "provenance": []
    },
    "kernelspec": {
      "name": "python3",
      "display_name": "Python 3"
    }
  },
  "cells": [
    {
      "metadata": {
        "id": "N50nPKnvqIxY",
        "colab_type": "text"
      },
      "cell_type": "markdown",
      "source": [
        "#FUNÇÕES\n",
        "\n",
        "* Uma função é um **nome dado a uma sequência de instruções**.\n",
        "* Elas podem ser chamadas a qualquer momento em um programa.\n"
      ]
    },
    {
      "metadata": {
        "id": "YzSCGjVvuh_L",
        "colab_type": "code",
        "colab": {}
      },
      "cell_type": "code",
      "source": [
        "def pessoa(nome):  \n",
        "  print (nome)      "
      ],
      "execution_count": 0,
      "outputs": []
    },
    {
      "metadata": {
        "id": "b8eWTUdhQ4iZ",
        "colab_type": "text"
      },
      "cell_type": "markdown",
      "source": [
        "​\n",
        "A palavra reservada <font color = \"orange\"> **`def`** </font> é o que define uma função! \n",
        "​\n",
        "Toda função, por definição, tem um** nome**, pode receber** parâmetros** e pode retornar **valores**. "
      ]
    },
    {
      "metadata": {
        "id": "gxSQvoOG_-AY",
        "colab_type": "code",
        "outputId": "f8446ed5-2828-49a4-ab97-ae2157dd2124",
        "colab": {
          "base_uri": "https://localhost:8080/",
          "height": 35
        }
      },
      "cell_type": "code",
      "source": [
        "pessoa  #Apenas referenciar a função não adianta!"
      ],
      "execution_count": 0,
      "outputs": [
        {
          "output_type": "execute_result",
          "data": {
            "text/plain": [
              "<function __main__.pessoa>"
            ]
          },
          "metadata": {
            "tags": []
          },
          "execution_count": 3
        }
      ]
    },
    {
      "metadata": {
        "id": "BV7FHNm1u63c",
        "colab_type": "code",
        "outputId": "6ff4ccd0-f5e9-4708-cae9-d2a69f1a8ce0",
        "colab": {
          "base_uri": "https://localhost:8080/",
          "height": 35
        }
      },
      "cell_type": "code",
      "source": [
        "pessoa('Natália')  #Aqui \"invocamos\" a função, colocando o parâmetro entre parênteses."
      ],
      "execution_count": 0,
      "outputs": [
        {
          "output_type": "stream",
          "text": [
            "Natália\n"
          ],
          "name": "stdout"
        }
      ]
    },
    {
      "metadata": {
        "id": "Ft9zFq2iAt2Z",
        "colab_type": "text"
      },
      "cell_type": "markdown",
      "source": [
        "Podemos definir uma função com vários argumentos...\n"
      ]
    },
    {
      "metadata": {
        "id": "RMwr9jcUA7xu",
        "colab_type": "code",
        "colab": {}
      },
      "cell_type": "code",
      "source": [
        "#Defina a mesma função a cima com dois argumentos: \"nome\" e \"idade\":\n",
        "     "
      ],
      "execution_count": 0,
      "outputs": []
    },
    {
      "metadata": {
        "id": "qVwLTmssBavz",
        "colab_type": "code",
        "colab": {}
      },
      "cell_type": "code",
      "source": [
        "#Chame a função definida:\n"
      ],
      "execution_count": 0,
      "outputs": []
    },
    {
      "metadata": {
        "id": "LP3JtJwayULM",
        "colab_type": "text"
      },
      "cell_type": "markdown",
      "source": [
        "...ou sem nenhum argumento!\n",
        "\n",
        "\n"
      ]
    },
    {
      "metadata": {
        "id": "gtSzmxeeyYzS",
        "colab_type": "code",
        "colab": {}
      },
      "cell_type": "code",
      "source": [
        "#Crie uma função chamada \"olá\" sem nenhum argumento:\n"
      ],
      "execution_count": 0,
      "outputs": []
    },
    {
      "metadata": {
        "id": "FWAMbacmyhRS",
        "colab_type": "code",
        "colab": {}
      },
      "cell_type": "code",
      "source": [
        "#Chame a função definida:\n"
      ],
      "execution_count": 0,
      "outputs": []
    },
    {
      "metadata": {
        "id": "L1XU2VZYUUJ5",
        "colab_type": "code",
        "colab": {}
      },
      "cell_type": "code",
      "source": [
        "#Defina uma função que imprima o quadrado de um número:\n"
      ],
      "execution_count": 0,
      "outputs": []
    },
    {
      "metadata": {
        "id": "QchWB-n97pv3",
        "colab_type": "code",
        "colab": {}
      },
      "cell_type": "code",
      "source": [
        "#Teste a função com o número 10:\n"
      ],
      "execution_count": 0,
      "outputs": []
    },
    {
      "metadata": {
        "id": "J8NS61IS4u03",
        "colab_type": "text"
      },
      "cell_type": "markdown",
      "source": [
        "###Parâmetros obrigatórios e não obrigatórios\n",
        "* Podemos definir um parâmetro não obrigatório, que será sempre usado pela função, mesmo que não for citado, como um padrão.\n",
        "\n",
        "Exemplo:"
      ]
    },
    {
      "metadata": {
        "id": "tJSZIqBi4uSf",
        "colab_type": "code",
        "colab": {}
      },
      "cell_type": "code",
      "source": [
        "#Defina uma função \"pessoa2\" que recebe o parâmetro obrigatório \"nome\" e o parâmetro não obrigatório \"idade\" com valor padrão 20:\n"
      ],
      "execution_count": 0,
      "outputs": []
    },
    {
      "metadata": {
        "id": "DTTOzCYT529V",
        "colab_type": "code",
        "colab": {}
      },
      "cell_type": "code",
      "source": [
        "#Chame a função fornecendo os dois parâmetros: \"nome\" e \"idade\":\n"
      ],
      "execution_count": 0,
      "outputs": []
    },
    {
      "metadata": {
        "id": "qs7Sdzad53I1",
        "colab_type": "code",
        "colab": {}
      },
      "cell_type": "code",
      "source": [
        "#Chame a função fornecendo apenas o parâmetro \"nome\":\n"
      ],
      "execution_count": 0,
      "outputs": []
    },
    {
      "metadata": {
        "id": "GZRBsHtv696Q",
        "colab_type": "code",
        "colab": {}
      },
      "cell_type": "code",
      "source": [
        "#Chame a função sem fornecer nenhum parâmetro entre os parênteses:\n"
      ],
      "execution_count": 0,
      "outputs": []
    },
    {
      "metadata": {
        "id": "FlIwEB388WmM",
        "colab_type": "text"
      },
      "cell_type": "markdown",
      "source": [
        "##`return`</b> </font>\n",
        "\n",
        "Esse comando sempre vai interromper a função!\n"
      ]
    },
    {
      "metadata": {
        "id": "vqnginuHBpYV",
        "colab_type": "code",
        "colab": {}
      },
      "cell_type": "code",
      "source": [
        "def quadrado(x):  \n",
        "    return x*x"
      ],
      "execution_count": 0,
      "outputs": []
    },
    {
      "metadata": {
        "id": "yHcnX5Wi7tLQ",
        "colab_type": "code",
        "outputId": "769ba213-8d11-44d9-a5ae-e9dd61211265",
        "colab": {
          "base_uri": "https://localhost:8080/",
          "height": 35
        }
      },
      "cell_type": "code",
      "source": [
        "quadrado(10)"
      ],
      "execution_count": 0,
      "outputs": [
        {
          "output_type": "execute_result",
          "data": {
            "text/plain": [
              "100"
            ]
          },
          "metadata": {
            "tags": []
          },
          "execution_count": 13
        }
      ]
    },
    {
      "metadata": {
        "id": "tPJ9pz9f9xg8",
        "colab_type": "text"
      },
      "cell_type": "markdown",
      "source": [
        "###`print`  vs.  `return`\n",
        "\n",
        "Exemplificando:\n"
      ]
    },
    {
      "metadata": {
        "id": "raiYhE-KJAvn",
        "colab_type": "code",
        "outputId": "761bff35-68e2-40ec-e2ca-d315617e7112",
        "colab": {
          "base_uri": "https://localhost:8080/",
          "height": 207
        }
      },
      "cell_type": "code",
      "source": [
        "#Usando a função \"imprimir_quadrado\" tente somar a ela o número 1:\n",
        "\n",
        "imprimir_quadrado(10) + 1     # não faz sentido fazer continha com uma \"impressão\""
      ],
      "execution_count": 0,
      "outputs": [
        {
          "output_type": "stream",
          "text": [
            "100\n"
          ],
          "name": "stdout"
        },
        {
          "output_type": "error",
          "ename": "TypeError",
          "evalue": "ignored",
          "traceback": [
            "\u001b[0;31m\u001b[0m",
            "\u001b[0;31mTypeError\u001b[0mTraceback (most recent call last)",
            "\u001b[0;32m<ipython-input-15-224011429fc7>\u001b[0m in \u001b[0;36m<module>\u001b[0;34m()\u001b[0m\n\u001b[0;32m----> 1\u001b[0;31m \u001b[0mimprimir_quadrado\u001b[0m\u001b[0;34m(\u001b[0m\u001b[0;36m10\u001b[0m\u001b[0;34m)\u001b[0m \u001b[0;34m+\u001b[0m \u001b[0;36m1\u001b[0m    \u001b[0;31m# Confere com o que falamos acima:\u001b[0m\u001b[0;34m\u001b[0m\u001b[0m\n\u001b[0m\u001b[1;32m      2\u001b[0m                               \u001b[0;31m# não faz sentido fazer continha com uma expressão\u001b[0m\u001b[0;34m\u001b[0m\u001b[0;34m\u001b[0m\u001b[0m\n",
            "\u001b[0;31mTypeError\u001b[0m: unsupported operand type(s) for +: 'NoneType' and 'int'"
          ]
        }
      ]
    },
    {
      "metadata": {
        "id": "99IhdN0JJFoV",
        "colab_type": "code",
        "outputId": "6b077cf5-2395-4862-9d83-540c1a32c935",
        "colab": {
          "base_uri": "https://localhost:8080/",
          "height": 35
        }
      },
      "cell_type": "code",
      "source": [
        "#Usando a função \"quadrado\" some a ela o número 1:\n",
        "\n",
        "1 + quadrado(10)    # Faz todo sentido fazer essa conta! \n",
        "                    # Temos um valor (y, que no nosso caso é 100)\n",
        "                    # Atribuído a uma função (f(x), que no nosso caso é quadrado(x))"
      ],
      "execution_count": 0,
      "outputs": [
        {
          "output_type": "execute_result",
          "data": {
            "text/plain": [
              "101"
            ]
          },
          "metadata": {
            "tags": []
          },
          "execution_count": 14
        }
      ]
    },
    {
      "metadata": {
        "id": "EYUESYn4LpU-",
        "colab_type": "text"
      },
      "cell_type": "markdown",
      "source": [
        "Se ainda não está claro, repare no <font color = \"orange\"><b> `type`</b> </font> de cada uma delas:"
      ]
    },
    {
      "metadata": {
        "id": "X7ky43TYJSpG",
        "colab_type": "code",
        "colab": {}
      },
      "cell_type": "code",
      "source": [
        "#Verifique o type de \"imprimir_quadrado\":\n"
      ],
      "execution_count": 0,
      "outputs": []
    },
    {
      "metadata": {
        "id": "zO80vBChJYrF",
        "colab_type": "code",
        "colab": {}
      },
      "cell_type": "code",
      "source": [
        "#Verifique o type de \"quadrado\":\n"
      ],
      "execution_count": 0,
      "outputs": []
    },
    {
      "metadata": {
        "id": "EfnMV1PiV7Z2",
        "colab_type": "text"
      },
      "cell_type": "markdown",
      "source": [
        "##FUNÇÕES LAMBDA\n",
        "\n",
        "* Funções anônimas, ou seja, não precisamos dar nome a elas \n",
        "* Funções de uma linha só (com apenas uma expressão)\n"
      ]
    },
    {
      "metadata": {
        "colab_type": "code",
        "id": "DHkr_Lj_e0pj",
        "colab": {}
      },
      "cell_type": "code",
      "source": [
        "def quadrado(x):  \n",
        "    return x*x"
      ],
      "execution_count": 0,
      "outputs": []
    },
    {
      "metadata": {
        "colab_type": "code",
        "id": "iUgDbm_Me3-a",
        "colab": {}
      },
      "cell_type": "code",
      "source": [
        "quadrado(10)"
      ],
      "execution_count": 0,
      "outputs": []
    },
    {
      "metadata": {
        "id": "xY3zm5yAe0B5",
        "colab_type": "code",
        "colab": {}
      },
      "cell_type": "code",
      "source": [
        "#Crie uma função lambda que faça o mesmo que a função anterior\n"
      ],
      "execution_count": 0,
      "outputs": []
    },
    {
      "metadata": {
        "id": "rARxiwUoy5yo",
        "colab_type": "text"
      },
      "cell_type": "markdown",
      "source": [
        "## `help()`\n",
        "\n",
        "* O comando <font color=orange> **`help()`** </font> explica o que uma função faz.\n",
        "\n",
        "\n",
        "> <font color=orange>  *`help`*  `(função)`"
      ]
    },
    {
      "metadata": {
        "id": "0fO7gywk01f9",
        "colab_type": "code",
        "colab": {}
      },
      "cell_type": "code",
      "source": [
        "#Peça ajuda na função \"help\":\n"
      ],
      "execution_count": 0,
      "outputs": []
    },
    {
      "metadata": {
        "id": "Qrc2zn1B1h-Q",
        "colab_type": "text"
      },
      "cell_type": "markdown",
      "source": [
        "Podemos usar o comando <font color = \"orange\"><b> `help()`</b> </font> nas funções criadas por usuários no Python, mas se não definirmos um texto de ajuda para a função, nada será retornado.\n"
      ]
    },
    {
      "metadata": {
        "id": "CtWo0KB11hYB",
        "colab_type": "code",
        "colab": {}
      },
      "cell_type": "code",
      "source": [
        "#Peça ajuda na função definida \"pessoa\":\n"
      ],
      "execution_count": 0,
      "outputs": []
    },
    {
      "metadata": {
        "id": "6XpffC2Z2OSh",
        "colab_type": "text"
      },
      "cell_type": "markdown",
      "source": [
        "Para funcionar, escrevemos um texto de ajuda na primeira linha, entre 3 aspas simples:"
      ]
    },
    {
      "metadata": {
        "id": "vSWsrWYy2yg6",
        "colab_type": "code",
        "colab": {}
      },
      "cell_type": "code",
      "source": [
        "#Crie um texto de ajuda para a função \"pessoa\":\n"
      ],
      "execution_count": 0,
      "outputs": []
    },
    {
      "metadata": {
        "id": "Wiztaw9v6WrL",
        "colab_type": "text"
      },
      "cell_type": "markdown",
      "source": [
        "##ALGUNS DETALHES SOBRE FUNÇÕES\n",
        "Podemos definir os **parâmetros** (que devem estar entre parênteses) dentro do corpo da função.\n",
        "\n",
        "\n",
        "\n",
        "\n"
      ]
    },
    {
      "metadata": {
        "id": "U7NRwO9J9Q_R",
        "colab_type": "code",
        "colab": {}
      },
      "cell_type": "code",
      "source": [
        "#Crie uma função com seu parâmetro definido dentro dela mesma:\n"
      ],
      "execution_count": 0,
      "outputs": []
    },
    {
      "metadata": {
        "id": "L19-X-5J8ctP",
        "colab_type": "text"
      },
      "cell_type": "markdown",
      "source": [
        "Função sem valor de retorno (<font color = \"orange\"><b>`return`</b> </font>),  retornará <font color = \"orange\"><b>`None`</b> </font>.\n",
        "\n"
      ]
    },
    {
      "metadata": {
        "id": "m2rDvXW-Yorj",
        "colab_type": "code",
        "colab": {}
      },
      "cell_type": "code",
      "source": [
        "#Defina a função \"soma\", que recebe valores de dois números e some eles, sem retorno:\n"
      ],
      "execution_count": 0,
      "outputs": []
    },
    {
      "metadata": {
        "id": "itMC9T9PYug9",
        "colab_type": "code",
        "colab": {}
      },
      "cell_type": "code",
      "source": [
        "#Execute a função \"soma\" para 1 e 2:\n"
      ],
      "execution_count": 0,
      "outputs": []
    },
    {
      "metadata": {
        "id": "esbDWeCS9wYJ",
        "colab_type": "text"
      },
      "cell_type": "markdown",
      "source": [
        "Podemos usar funções dentro de outras funções!\n",
        "\n",
        "\n",
        "\n"
      ]
    },
    {
      "metadata": {
        "id": "QR_cQyD4CRt2",
        "colab_type": "code",
        "colab": {}
      },
      "cell_type": "code",
      "source": [
        "#Defina a função \"mais_um\", que recebe um número e adicione 1 a ele;\n",
        "#depois, crie a função \"mais_dois\", que recebe um número, use a função anterior para adicionar 1 e adicione mais 1:\n"
      ],
      "execution_count": 0,
      "outputs": []
    },
    {
      "metadata": {
        "id": "oSmjhRNP-JG9",
        "colab_type": "code",
        "colab": {}
      },
      "cell_type": "code",
      "source": [
        "#Teste a função \"mais_dois\" para o número 4:\n"
      ],
      "execution_count": 0,
      "outputs": []
    },
    {
      "metadata": {
        "id": "Aqb493M5_prX",
        "colab_type": "text"
      },
      "cell_type": "markdown",
      "source": [
        "Lembra de como era chatinho calcular fatoriais? Podemos fazer uma função para achar o fatorial de um número."
      ]
    },
    {
      "metadata": {
        "id": "LXBVlAkxv4JY",
        "colab_type": "code",
        "colab": {}
      },
      "cell_type": "code",
      "source": [
        "#Crie a função \"fatorial\", que retorna o fatorial de um número:\n"
      ],
      "execution_count": 0,
      "outputs": []
    },
    {
      "metadata": {
        "id": "-QbSxLW2-d-R",
        "colab_type": "text"
      },
      "cell_type": "markdown",
      "source": [
        "\n",
        "####Exemplo extra:\n"
      ]
    },
    {
      "metadata": {
        "id": "IGoxxXqDBvIw",
        "colab_type": "text"
      },
      "cell_type": "markdown",
      "source": [
        "Fibonacci: $1 , 1 , 2 , 3 , 5 , 8 , 13 , 21 , 34 , 55 , 89 , 144, \\ldots$\n",
        "\n",
        "$F(n) = \\begin{cases}\n",
        "0 &\\text{if n = 0}\\\\\n",
        "1 &\\text{if n = 1}\\\\\n",
        "F(n-1) + F(n-2) &\\text{if n > 1}\\\\\n",
        "\\end{cases}$"
      ]
    },
    {
      "metadata": {
        "id": "rPmNsgrrB8aY",
        "colab_type": "code",
        "colab": {}
      },
      "cell_type": "code",
      "source": [
        "#Defina uma função que retorne um número da sequência de fibonacci\n"
      ],
      "execution_count": 0,
      "outputs": []
    },
    {
      "metadata": {
        "id": "iTalu53LQ3Co",
        "colab_type": "text"
      },
      "cell_type": "markdown",
      "source": [
        "##EXERCÍCIOS\n",
        "\n",
        "1. Escreva um programa que, dada uma lista com 10 números positivos, imprimá-os em ordem descrescente, do maior para o menor. Dicas:\n",
        "\n",
        ">Escreva uma função que:\n",
        ">* Pegue a lista e ache o maior elemento dela;\n",
        "> * Então, apague esse elemento da lista e o retorne.\n",
        "\n",
        ">(Você precisará de duas variáveis nessa função: o maior elemento até o momento - inicializando-o em 0 - e a posição dele. Então, use iterações sobre a lista, checando se cada elemento é, de fato, o maior elemento. Caso encontre o maior elemento, mude o valor das duas variáveis. Portanto, no programa, o loop vai terminar no momento em que a lista ficar vazia)."
      ]
    },
    {
      "metadata": {
        "id": "3xwOG9QHRBJM",
        "colab_type": "code",
        "colab": {}
      },
      "cell_type": "code",
      "source": [
        ""
      ],
      "execution_count": 0,
      "outputs": []
    },
    {
      "metadata": {
        "id": "nJgJdJ3FRKiv",
        "colab_type": "text"
      },
      "cell_type": "markdown",
      "source": [
        "2. Escreva uma definição para uma função que pega uma lista e mova o primeiro elemento para o final dela."
      ]
    },
    {
      "metadata": {
        "id": "RAlalhjeRzGc",
        "colab_type": "code",
        "colab": {}
      },
      "cell_type": "code",
      "source": [
        ""
      ],
      "execution_count": 0,
      "outputs": []
    }
  ]
}